{
 "cells": [
  {
   "cell_type": "code",
   "execution_count": 1,
   "metadata": {},
   "outputs": [],
   "source": [
    "from torchvision import datasets, transforms\n",
    "import torch\n",
    "from torch.autograd import Variable\n",
    "import torch.nn as nn\n",
    "import torch.nn.functional as F\n",
    "import torch.optim as optim\n",
    "import torch.nn.init as init"
   ]
  },
  {
   "cell_type": "code",
   "execution_count": 2,
   "metadata": {},
   "outputs": [
    {
     "data": {
      "text/plain": [
       "<torch._C.Generator at 0x7f614415a550>"
      ]
     },
     "execution_count": 2,
     "metadata": {},
     "output_type": "execute_result"
    }
   ],
   "source": [
    "batch_size = 64\n",
    "test_batch_size = 1000"
   ]
  },
  {
   "cell_type": "code",
   "execution_count": 3,
   "metadata": {},
   "outputs": [],
   "source": [
    "class ConvNet(nn.Module):\n",
    "    def __init__(self, input_size=(28, 28), output_size=10, num_layers=5, growth=2):\n",
    "        super(ConvNet, self).__init__()\n",
    "        self.num_layers = num_layers\n",
    "        layers, channels, initial_growth = [], 1, 16\n",
    "        for i in range(num_layers):\n",
    "            next_channels = int(channels * growth * initial_growth)\n",
    "            layers.append(nn.Conv2d(channels, next_channels, kernel_size=3, bias=False))\n",
    "            init.kaiming_uniform(layers[-1].weight.data)\n",
    "            layers.append(nn.BatchNorm2d(next_channels))\n",
    "            layers[-1].weight.data.fill_(1)\n",
    "            layers[-1].bias.data.fill_(0)\n",
    "            layers.append(nn.ReLU())\n",
    "            layers.append(nn.MaxPool2d(kernel_size=2, stride=2))\n",
    "            channels, initial_growth = next_channels, 1\n",
    "        self.filter = nn.Sequential(*layers)\n",
    "        self.classifier = nn.Linear(in_features=channels, out_features=10, bias=False)\n",
    "        init.kaiming_uniform(self.classifier.weight.data)\n",
    "\n",
    "    def forward(self, batch):\n",
    "        return F.log_softmax(self.classifier(F.adaptive_avg_pool2d(self.filter(batch), 1).squeeze()))"
   ]
  },
  {
   "cell_type": "code",
   "execution_count": 4,
   "metadata": {},
   "outputs": [],
   "source": [
    "train_loader = torch.utils.data.DataLoader(\n",
    "    datasets.MNIST('mnist', train=True, download=True,\n",
    "                   transform=transforms.Compose([\n",
    "                       transforms.ToTensor(),\n",
    "                       transforms.Normalize((0.1307,), (0.3081,))\n",
    "                   ])), batch_size=batch_size, shuffle=True)\n",
    "test_loader = torch.utils.data.DataLoader(\n",
    "    datasets.MNIST('mnist', train=False, transform=transforms.Compose([\n",
    "                       transforms.ToTensor(),\n",
    "                       transforms.Normalize((0.1307,), (0.3081,))\n",
    "                   ])), batch_size=test_batch_size, shuffle=True)"
   ]
  },
  {
   "cell_type": "code",
   "execution_count": 5,
   "metadata": {},
   "outputs": [],
   "source": [
    "def find_lr(model, train_dl, epochs=1, start=1e-4, end=8.0, beta=0.98):\n",
    "    optimizer = optim.SGD(model.parameters(), lr=start, momentum=0.99)\n",
    "    avg_loss, best_loss = 0, float('inf')\n",
    "    step = (end / start) ** (1/(len(train_dl) * epochs - 1))\n",
    "    i, lr = 1, start\n",
    "    lr_losses = []\n",
    "    for _ in range(epochs):\n",
    "        for data, labels in train_dl:\n",
    "            input, target = Variable(data), Variable(labels)\n",
    "            model.zero_grad()\n",
    "            optimizer.zero_grad()\n",
    "            output = model(input)\n",
    "            loss = F.nll_loss(output, target)\n",
    "            avg_loss = beta * avg_loss + (1-beta) * loss.data.item()\n",
    "            smoothed_loss = avg_loss / (1 - beta ** i)\n",
    "            lr_losses.append((lr, smoothed_loss))\n",
    "            if smoothed_loss > 4 * best_loss:\n",
    "                return lr_losses\n",
    "            elif smoothed_loss < best_loss:\n",
    "                best_loss = smoothed_loss\n",
    "            loss.backward()\n",
    "            optimizer.step()\n",
    "            lr *= step\n",
    "            optimizer.param_groups[0]['lr'] = lr\n",
    "            i += 1\n",
    "    return lr_losses"
   ]
  },
  {
   "cell_type": "code",
   "execution_count": 6,
   "metadata": {
    "scrolled": false
   },
   "outputs": [
    {
     "name": "stderr",
     "output_type": "stream",
     "text": [
      "/home/kcy1019/.pyenv/versions/deep/lib/python3.7/site-packages/ipykernel_launcher.py:9: UserWarning: nn.init.kaiming_uniform is now deprecated in favor of nn.init.kaiming_uniform_.\n",
      "  if __name__ == '__main__':\n",
      "/home/kcy1019/.pyenv/versions/deep/lib/python3.7/site-packages/ipykernel_launcher.py:18: UserWarning: nn.init.kaiming_uniform is now deprecated in favor of nn.init.kaiming_uniform_.\n",
      "/home/kcy1019/.pyenv/versions/deep/lib/python3.7/site-packages/ipykernel_launcher.py:21: UserWarning: Implicit dimension choice for log_softmax has been deprecated. Change the call to include dim=X as an argument.\n"
     ]
    }
   ],
   "source": [
    "torch.manual_seed(42)\n",
    "net = ConvNet(num_layers=2)\n",
    "net.train()\n",
    "lr_losses = find_lr(net, train_loader, epochs=1)"
   ]
  },
  {
   "cell_type": "code",
   "execution_count": 8,
   "metadata": {},
   "outputs": [
    {
     "data": {
      "text/plain": [
       "[<matplotlib.lines.Line2D at 0x7f60adb45198>]"
      ]
     },
     "execution_count": 8,
     "metadata": {},
     "output_type": "execute_result"
    },
    {
     "data": {
      "image/png": "[encoded data removed]",
      "text/plain": [
       "<Figure size 432x288 with 1 Axes>"
      ]
     },
     "metadata": {
      "needs_background": "light"
     },
     "output_type": "display_data"
    }
   ],
   "source": [
    "%matplotlib inline\n",
    "import matplotlib.pyplot as plt\n",
    "import math\n",
    "xs, ys = ([math.log10(p[0]) for p in lr_losses[5:-10]], [p[1] for p in lr_losses[5:-10]])\n",
    "plt.plot(xs, ys)"
   ]
  },
  {
   "cell_type": "code",
   "execution_count": 15,
   "metadata": {},
   "outputs": [],
   "source": [
    "def train(model, train_dl, epochs=10, lr=0.1):\n",
    "    model.train()\n",
    "    optimizer = optim.SGD(model.parameters(), lr=lr, momentum=0.99)\n",
    "    avg_losses, num_examples = [], len(train_dl)\n",
    "    for _ in range(epochs):\n",
    "        avg_loss = 0\n",
    "        for data, labels in train_dl:\n",
    "            input, target = Variable(data), Variable(labels)\n",
    "            model.zero_grad()\n",
    "            optimizer.zero_grad()\n",
    "            output = model(input)\n",
    "            loss = F.nll_loss(output, target)\n",
    "            avg_loss += loss / num_examples\n",
    "            loss.backward()\n",
    "            optimizer.step()\n",
    "        print(f'Epoch [{_:2d}/{epochs:2d}]: avg loss {avg_loss:.2f}')\n",
    "        avg_losses.append(avg_loss)\n",
    "    return avg_losses"
   ]
  },
  {
   "cell_type": "code",
   "execution_count": null,
   "metadata": {},
   "outputs": [
    {
     "name": "stderr",
     "output_type": "stream",
     "text": [
      "/home/kcy1019/.pyenv/versions/deep/lib/python3.7/site-packages/ipykernel_launcher.py:9: UserWarning: nn.init.kaiming_uniform is now deprecated in favor of nn.init.kaiming_uniform_.\n",
      "  if __name__ == '__main__':\n",
      "/home/kcy1019/.pyenv/versions/deep/lib/python3.7/site-packages/ipykernel_launcher.py:18: UserWarning: nn.init.kaiming_uniform is now deprecated in favor of nn.init.kaiming_uniform_.\n",
      "/home/kcy1019/.pyenv/versions/deep/lib/python3.7/site-packages/ipykernel_launcher.py:21: UserWarning: Implicit dimension choice for log_softmax has been deprecated. Change the call to include dim=X as an argument.\n"
     ]
    },
    {
     "name": "stdout",
     "output_type": "stream",
     "text": [
      "Epoch [ 0/10]: avg loss 0.49\n",
      "Epoch [ 1/10]: avg loss 0.16\n",
      "Epoch [ 2/10]: avg loss 0.12\n",
      "Epoch [ 3/10]: avg loss 0.10\n",
      "Epoch [ 4/10]: avg loss 0.08\n",
      "Epoch [ 5/10]: avg loss 0.07\n",
      "Epoch [ 6/10]: avg loss 0.07\n"
     ]
    }
   ],
   "source": [
    "torch.manual_seed(42)\n",
    "net = ConvNet(num_layers=2)\n",
    "train(net, train_loader, ep ochs=10, lr=10 ** -1.5)"
   ]
  },
  {
   "cell_type": "code",
   "execution_count": null,
   "metadata": {},
   "outputs": [],
   "source": [
    "torch.manual_seed(42)\n",
    "net = ConvNet(num_layers=2)\n",
    "train(net, train_loader, ep ochs=10, lr=10 ** -2)"
   ]
  }
 ],
 "metadata": {
  "kernelspec": {
   "display_name": "Python 3",
   "language": "python",
   "name": "python3"
  },
  "language_info": {
   "codemirror_mode": {
    "name": "ipython",
    "version": 3
   },
   "file_extension": ".py",
   "mimetype": "text/x-python",
   "name": "python",
   "nbconvert_exporter": "python",
   "pygments_lexer": "ipython3",
   "version": "3.7.0"
  }
 },
 "nbformat": 4,
 "nbformat_minor": 2
}
