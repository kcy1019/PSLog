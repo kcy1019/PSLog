{
 "cells": [
  {
   "cell_type": "markdown",
   "metadata": {},
   "source": [
    "## MNIST 분류로 살펴보는 Learning Rate 찾기"
   ]
  },
  {
   "cell_type": "code",
   "execution_count": 1,
   "metadata": {},
   "outputs": [],
   "source": [
    "from torchvision import datasets, transforms\n",
    "import torch\n",
    "from torch.autograd import Variable\n",
    "import torch.nn as nn\n",
    "import torch.nn.functional as F\n",
    "import torch.optim as optim\n",
    "import torch.nn.init as init\n",
    "import numpy as np\n",
    "%matplotlib inline\n",
    "import seaborn as sns\n",
    "import matplotlib.pyplot as plt\n",
    "import math\n",
    "sns.set()\n",
    "torch.backends.cudnn.enabled = True\n",
    "torch.backends.cudnn.benchmark = True"
   ]
  },
  {
   "cell_type": "code",
   "execution_count": 2,
   "metadata": {},
   "outputs": [],
   "source": [
    "batch_size = 64\n",
    "test_batch_size = 100"
   ]
  },
  {
   "cell_type": "markdown",
   "metadata": {},
   "source": [
    "![architecture](https://raw.githubusercontent.com/kcy1019/TIL/images/mnist-cnn-1.png)\n",
    "CNN에서 흔하게 보이는 구조입니다(e.g. vgg16). 여기서는 데이터가 단순하기 때문에 히든 레이어가 2개인 얕은 구조를 사용합니다.\n",
    "마지막 부분의 Global Average Pooling을 통해 각 채널을 1x1 로 줄이면 연산량을 줄이면서도 dense layer처럼 이용할 수 있습니다. 각 채널이 dense layer 내의 한 개의 뉴런을 대신하는 것이죠."
   ]
  },
  {
   "cell_type": "code",
   "execution_count": 3,
   "metadata": {},
   "outputs": [],
   "source": [
    "class ConvNet(nn.Module):\n",
    "    def __init__(self, input_size=(28, 28), output_size=10, num_layers=3, growth=2):\n",
    "        super(ConvNet, self).__init__()\n",
    "        self.num_layers = num_layers\n",
    "        layers, channels, initial_growth = [], 1, 16\n",
    "        for i in range(num_layers):\n",
    "            next_channels = int(channels * growth * initial_growth)\n",
    "            layers.append(nn.Conv2d(channels, next_channels, kernel_size=3, bias=False))\n",
    "            init.kaiming_uniform(layers[-1].weight.data)\n",
    "            layers.append(nn.BatchNorm2d(next_channels))\n",
    "            layers[-1].weight.data.fill_(1)\n",
    "            layers[-1].bias.data.fill_(0)\n",
    "            layers.append(nn.ReLU())\n",
    "            layers.append(nn.MaxPool2d(kernel_size=2, stride=2))\n",
    "            channels, initial_growth = next_channels, 1\n",
    "        self.filter = nn.Sequential(*layers)\n",
    "        self.classifier = nn.Linear(in_features=channels, out_features=10, bias=False)\n",
    "        init.kaiming_uniform(self.classifier.weight.data)\n",
    "\n",
    "    def forward(self, batch):\n",
    "        return F.log_softmax(self.classifier(F.adaptive_avg_pool2d(self.filter(batch), 1).squeeze()), dim=1)"
   ]
  },
  {
   "cell_type": "code",
   "execution_count": 4,
   "metadata": {},
   "outputs": [],
   "source": [
    "train_loader = torch.utils.data.DataLoader(\n",
    "    datasets.MNIST('mnist', train=True, download=True,\n",
    "                   transform=transforms.Compose([\n",
    "                       transforms.ToTensor(),\n",
    "                       transforms.Normalize((0.1307,), (0.3081,))\n",
    "                   ])), batch_size=batch_size, shuffle=True)\n",
    "test_loader = torch.utils.data.DataLoader(\n",
    "    datasets.MNIST('mnist', train=False, transform=transforms.Compose([\n",
    "                       transforms.ToTensor(),\n",
    "                       transforms.Normalize((0.1307,), (0.3081,))\n",
    "                   ])), batch_size=test_batch_size, shuffle=True)"
   ]
  },
  {
   "cell_type": "markdown",
   "metadata": {},
   "source": [
    "### Evenly spaced in {log, linear}-scale\n",
    "\n",
    "0.00001 부터 10.0 까지의 수 중에서 n개의 값을 균일한 간격으로 뽑으려면 어떻게 해야 할까요? 두 가지 방법을 생각해 봅시다:\n",
    "\n",
    "1. `(0.00001 + 10) * i / n`: '값의 구간'을 균일한 간격으로 나누어서 선택\n",
    "2. `10 ** (-2 + 1) * i / n`: '지수 구간'를 균일한 간격으로 나누어서 선택\n",
    "\n",
    "간단히 돌려보면 결과가 다음과 같이 나옵니다.\n",
    "![architecture](https://raw.githubusercontent.com/kcy1019/TIL/images/evenly-spaced.png)\n",
    "\n",
    "그냥 값의 구간을 균일하게 나눌 경우, 양 끝(특히 큰 쪽)에 몰리는 경향을 발견할 수 있습니다.\n",
    "극단적으로 0.0001 ~ 0.5 사이의 값은 선택되지 않게 됩니다.\n",
    "\n",
    "따라서 여기서는 지수 구간을 균일하게 나누어 learning rate를 선택하도록 합니다."
   ]
  },
  {
   "cell_type": "code",
   "execution_count": 5,
   "metadata": {},
   "outputs": [
    {
     "data": {
      "image/png": "[encoded data removed]",
      "text/plain": [
       "<Figure size 432x288 with 1 Axes>"
      ]
     },
     "metadata": {
      "needs_background": "light"
     },
     "output_type": "display_data"
    }
   ],
   "source": [
    "n = 20\n",
    "plt.scatter(np.log10(np.logspace(-5 , 1, n)), [1] * n);\n",
    "plt.scatter(np.log10(np.linspace(10 ** -5 , 10, n)), [0] * n);"
   ]
  },
  {
   "cell_type": "markdown",
   "metadata": {},
   "source": [
    "### Finding Learning Rate\n",
    "\n",
    "Learning rate(이하 lr)을 찾는 것은 생각보다 쉽습니다. 이 방법은 fast.ai 라이브러리에 구현된 것으로, [Cyclical Learning Rate][cyclic] 에서 아이디어를 얻었다고 합니다.\n",
    "\n",
    "1. 낮은 lr부터 시작하여, lr을 계속 늘려가며 loss의 변화를 관찰한다 (loss vs. lr 그래프)\n",
    "2. loss가 지속적으로 줄어드는 가장 큰 lr을 선택한다\n",
    "\n",
    "굉장히 간단합니다. 다만.. 실제로 그냥 그려보면 다음과 같이 알아보기 힘든 그래프가 나옵니다. 어느 값까지 봐야하는지도 헷갈리고.\n",
    "\n",
    "![loss-lr](https://raw.githubusercontent.com/kcy1019/TIL/images/lr-loss-graph-1.png)\n",
    "\n",
    "이를 해결하기 위해 이 구현은 smoothing 방법으로 [EMA](ema)를 이용하고, 지금까지의 최소 (smoothed) loss 보다 4배 이상 큰 loss가 나오면 그만 보는 방법을 제안합니다.\n",
    "\n",
    "위의 그래프에서 smoothed loss 를 보면, 가장 좋아보이는 지수가 -2.0과 -1.5의 중간쯤에 있는 것으로 보입니다.\n",
    "\n",
    "[cyclic]: https://arxiv.org/abs/1506.01186\n",
    "[ema]: https://en.wikipedia.org/wiki/Moving_average#Exponential_moving_average"
   ]
  },
  {
   "cell_type": "code",
   "execution_count": 6,
   "metadata": {},
   "outputs": [],
   "source": [
    "def find_lr(model, train_dl, epochs=1, start=1e-4, end=8.0, beta=0.98):\n",
    "    optimizer = optim.SGD(model.parameters(), lr=start, momentum=0.99)\n",
    "    avg_loss, best_loss = 0, float('inf')\n",
    "    step = (end / start) ** (1/(len(train_dl) * epochs - 1))\n",
    "    i, lr = 1, start\n",
    "    lr_losses = []\n",
    "    for _ in range(epochs):\n",
    "        for data, labels in train_dl:\n",
    "            input, target = Variable(data).cuda(), Variable(labels).cuda()\n",
    "            model.zero_grad()\n",
    "            optimizer.zero_grad()\n",
    "            output = model(input)\n",
    "            loss = F.nll_loss(output, target)\n",
    "            avg_loss = beta * avg_loss + (1-beta) * loss.data.item()\n",
    "            smoothed_loss = avg_loss / (1 - beta ** i)\n",
    "            lr_losses.append((lr, smoothed_loss, loss.data.item()))\n",
    "            if smoothed_loss > 4 * best_loss:\n",
    "                return lr_losses\n",
    "            elif smoothed_loss < best_loss:\n",
    "                best_loss = smoothed_loss\n",
    "            loss.backward()\n",
    "            optimizer.step()\n",
    "            lr *= step\n",
    "            optimizer.param_groups[0]['lr'] = lr\n",
    "            i += 1\n",
    "    return lr_losses"
   ]
  },
  {
   "cell_type": "code",
   "execution_count": 7,
   "metadata": {
    "scrolled": false
   },
   "outputs": [
    {
     "name": "stderr",
     "output_type": "stream",
     "text": [
      "/home/lucent/.pyenv/versions/3.7.0/envs/ml2/lib/python3.7/site-packages/ipykernel_launcher.py:9: UserWarning: nn.init.kaiming_uniform is now deprecated in favor of nn.init.kaiming_uniform_.\n",
      "  if __name__ == '__main__':\n",
      "/home/lucent/.pyenv/versions/3.7.0/envs/ml2/lib/python3.7/site-packages/ipykernel_launcher.py:18: UserWarning: nn.init.kaiming_uniform is now deprecated in favor of nn.init.kaiming_uniform_.\n"
     ]
    }
   ],
   "source": [
    "torch.manual_seed(42)\n",
    "net = ConvNet(num_layers=3).cuda()\n",
    "net.train()\n",
    "lr_losses = find_lr(net, train_loader, epochs=1)"
   ]
  },
  {
   "cell_type": "code",
   "execution_count": 8,
   "metadata": {},
   "outputs": [
    {
     "data": {
      "image/png": "[encoded data removed]",
      "text/plain": [
       "<Figure size 432x288 with 1 Axes>"
      ]
     },
     "metadata": {
      "needs_background": "light"
     },
     "output_type": "display_data"
    }
   ],
   "source": [
    "xs, ys = ([math.log10(p[0]) for p in lr_losses[5:-10]], [p[-1] for p in lr_losses[5:-10]])\n",
    "plt.plot(xs, ys)\n",
    "xs, ys = ([math.log10(p[0]) for p in lr_losses[5:-10]], [p[1] for p in lr_losses[5:-10]])\n",
    "plt.plot(xs, ys)\n",
    "plt.legend(['raw', 'smoothed'], ncol=1, loc='upper right');"
   ]
  },
  {
   "cell_type": "code",
   "execution_count": 9,
   "metadata": {},
   "outputs": [],
   "source": [
    "def eval(model, test_dl):\n",
    "    model.eval()\n",
    "    num_examples, avg_loss, correct_count = 0, 0, 0\n",
    "    with torch.no_grad():\n",
    "        for data, labels in test_dl:\n",
    "            input = Variable(data).cuda()\n",
    "            output = model(input)\n",
    "            loss = F.nll_loss(output, labels.cuda())\n",
    "            avg_loss += loss.data.item()\n",
    "            correct_count += np.sum(np.argmax(output.cpu().numpy(), axis=1) == labels.cpu().numpy())\n",
    "            num_examples += labels.size(0)\n",
    "        return avg_loss / num_examples, correct_count * 100 / num_examples"
   ]
  },
  {
   "cell_type": "code",
   "execution_count": 10,
   "metadata": {},
   "outputs": [],
   "source": [
    "def train(model, train_dl, epochs=10, lr=0.1):\n",
    "    optimizer = optim.SGD(model.parameters(), lr=lr, momentum=0.99)\n",
    "    avg_losses, accs = [], []\n",
    "    for _ in range(epochs):\n",
    "        model.train()\n",
    "        avg_loss, acc, num_examples = 0, 0, 0\n",
    "        for data, labels in train_dl:\n",
    "            input, target = Variable(data).cuda(), Variable(labels).cuda()\n",
    "            model.zero_grad()\n",
    "            optimizer.zero_grad()\n",
    "            output = model(input)\n",
    "            loss = F.nll_loss(output, target)\n",
    "            avg_loss += loss.data.item()\n",
    "            acc += np.sum(np.argmax(output.detach().cpu().numpy(), axis=1) == labels.cpu().numpy())\n",
    "            num_examples += target.size(0)\n",
    "            loss.backward()\n",
    "            optimizer.step()\n",
    "        avg_loss /= num_examples\n",
    "        acc = acc * 100 / num_examples\n",
    "        val_avg_loss, val_acc = eval(model, test_loader)  # 원래는 validation dataset을 써야 하지만 MNIST엔 없어서..\n",
    "        print(f'Epoch [{_+1:2d}/{epochs:2d}]: (Train) avg loss {avg_loss:.5f}, accuracy {acc:.3f}%')\n",
    "        print(f'Epoch [{_+1:2d}/{epochs:2d}]: (Valid) avg loss {val_avg_loss:.5f}, accuracy {val_acc:.3f}%')\n",
    "        avg_losses.append(avg_loss)\n",
    "        accs.append(acc)\n",
    "    return avg_losses, accs"
   ]
  },
  {
   "cell_type": "markdown",
   "metadata": {},
   "source": [
    "### Training with Various Learning Rates\n",
    "\n",
    "위에서 얻은 구간을 이용하여 learning rate를 찾아봅시다.\n",
    "이번에도 지수 공간에서 균일하게 lr을 몇개 뽑아서 트레이닝과 테스트를 해 보면, 대충 0.02371 정도가 좋아보입니다."
   ]
  },
  {
   "cell_type": "code",
   "execution_count": 11,
   "metadata": {
    "scrolled": false
   },
   "outputs": [
    {
     "name": "stderr",
     "output_type": "stream",
     "text": [
      "/home/lucent/.pyenv/versions/3.7.0/envs/ml2/lib/python3.7/site-packages/ipykernel_launcher.py:9: UserWarning: nn.init.kaiming_uniform is now deprecated in favor of nn.init.kaiming_uniform_.\n",
      "  if __name__ == '__main__':\n",
      "/home/lucent/.pyenv/versions/3.7.0/envs/ml2/lib/python3.7/site-packages/ipykernel_launcher.py:18: UserWarning: nn.init.kaiming_uniform is now deprecated in favor of nn.init.kaiming_uniform_.\n"
     ]
    },
    {
     "name": "stdout",
     "output_type": "stream",
     "text": [
      "[LR = 0.01000]\n",
      "Epoch [ 1/ 5]: (Train) avg loss 0.00785, accuracy 83.557%\n",
      "Epoch [ 1/ 5]: (Valid) avg loss 0.00258, accuracy 92.660%\n",
      "Epoch [ 2/ 5]: (Train) avg loss 0.00231, accuracy 95.557%\n",
      "Epoch [ 2/ 5]: (Valid) avg loss 0.00127, accuracy 96.190%\n",
      "Epoch [ 3/ 5]: (Train) avg loss 0.00173, accuracy 96.570%\n",
      "Epoch [ 3/ 5]: (Valid) avg loss 0.00169, accuracy 94.300%\n",
      "Epoch [ 4/ 5]: (Train) avg loss 0.00145, accuracy 97.243%\n",
      "Epoch [ 4/ 5]: (Valid) avg loss 0.00083, accuracy 97.510%\n",
      "Epoch [ 5/ 5]: (Train) avg loss 0.00112, accuracy 97.828%\n",
      "Epoch [ 5/ 5]: (Valid) avg loss 0.00080, accuracy 97.580%\n",
      "[LR = 0.01334]\n",
      "Epoch [ 1/ 5]: (Train) avg loss 0.00788, accuracy 83.497%\n",
      "Epoch [ 1/ 5]: (Valid) avg loss 0.00254, accuracy 92.640%\n",
      "Epoch [ 2/ 5]: (Train) avg loss 0.00234, accuracy 95.445%\n",
      "Epoch [ 2/ 5]: (Valid) avg loss 0.00144, accuracy 95.610%\n",
      "Epoch [ 3/ 5]: (Train) avg loss 0.00168, accuracy 96.772%\n",
      "Epoch [ 3/ 5]: (Valid) avg loss 0.00106, accuracy 96.690%\n",
      "Epoch [ 4/ 5]: (Train) avg loss 0.00138, accuracy 97.330%\n",
      "Epoch [ 4/ 5]: (Valid) avg loss 0.00093, accuracy 97.060%\n",
      "Epoch [ 5/ 5]: (Train) avg loss 0.00125, accuracy 97.518%\n",
      "Epoch [ 5/ 5]: (Valid) avg loss 0.00075, accuracy 97.660%\n",
      "[LR = 0.01778]\n",
      "Epoch [ 1/ 5]: (Train) avg loss 0.00786, accuracy 83.515%\n",
      "Epoch [ 1/ 5]: (Valid) avg loss 0.00262, accuracy 92.360%\n",
      "Epoch [ 2/ 5]: (Train) avg loss 0.00234, accuracy 95.477%\n",
      "Epoch [ 2/ 5]: (Valid) avg loss 0.00127, accuracy 96.230%\n",
      "Epoch [ 3/ 5]: (Train) avg loss 0.00179, accuracy 96.447%\n",
      "Epoch [ 3/ 5]: (Valid) avg loss 0.00120, accuracy 96.150%\n",
      "Epoch [ 4/ 5]: (Train) avg loss 0.00142, accuracy 97.197%\n",
      "Epoch [ 4/ 5]: (Valid) avg loss 0.00084, accuracy 97.380%\n",
      "Epoch [ 5/ 5]: (Train) avg loss 0.00120, accuracy 97.630%\n",
      "Epoch [ 5/ 5]: (Valid) avg loss 0.00081, accuracy 97.500%\n",
      "[LR = 0.02371]\n",
      "Epoch [ 1/ 5]: (Train) avg loss 0.00786, accuracy 83.550%\n",
      "Epoch [ 1/ 5]: (Valid) avg loss 0.00266, accuracy 92.280%\n",
      "Epoch [ 2/ 5]: (Train) avg loss 0.00230, accuracy 95.530%\n",
      "Epoch [ 2/ 5]: (Valid) avg loss 0.00150, accuracy 95.540%\n",
      "Epoch [ 3/ 5]: (Train) avg loss 0.00185, accuracy 96.423%\n",
      "Epoch [ 3/ 5]: (Valid) avg loss 0.00094, accuracy 97.170%\n",
      "Epoch [ 4/ 5]: (Train) avg loss 0.00141, accuracy 97.212%\n",
      "Epoch [ 4/ 5]: (Valid) avg loss 0.00083, accuracy 97.490%\n",
      "Epoch [ 5/ 5]: (Train) avg loss 0.00119, accuracy 97.700%\n",
      "Epoch [ 5/ 5]: (Valid) avg loss 0.00062, accuracy 98.030%\n",
      "[LR = 0.03162]\n",
      "Epoch [ 1/ 5]: (Train) avg loss 0.00787, accuracy 83.552%\n",
      "Epoch [ 1/ 5]: (Valid) avg loss 0.00256, accuracy 92.190%\n",
      "Epoch [ 2/ 5]: (Train) avg loss 0.00231, accuracy 95.485%\n",
      "Epoch [ 2/ 5]: (Valid) avg loss 0.00156, accuracy 95.450%\n",
      "Epoch [ 3/ 5]: (Train) avg loss 0.00170, accuracy 96.717%\n",
      "Epoch [ 3/ 5]: (Valid) avg loss 0.00091, accuracy 97.290%\n",
      "Epoch [ 4/ 5]: (Train) avg loss 0.00140, accuracy 97.260%\n",
      "Epoch [ 4/ 5]: (Valid) avg loss 0.00091, accuracy 97.210%\n",
      "Epoch [ 5/ 5]: (Train) avg loss 0.00121, accuracy 97.563%\n",
      "Epoch [ 5/ 5]: (Valid) avg loss 0.00065, accuracy 97.900%\n"
     ]
    }
   ],
   "source": [
    "losses, accs, lrs = [], [], np.logspace(-2 , -1.5, 5)\n",
    "for lr in lrs:\n",
    "    torch.manual_seed(42)\n",
    "    net = ConvNet(num_layers=2).cuda()\n",
    "    print(f'[LR = {lr:.5f}]')\n",
    "    l, a = train(net, train_loader, epochs=5, lr=10 ** -1.75)\n",
    "    losses.append(l)\n",
    "    accs.append(a)"
   ]
  }
 ],
 "metadata": {
  "kernelspec": {
   "display_name": "Python 3",
   "language": "python",
   "name": "python3"
  },
  "language_info": {
   "codemirror_mode": {
    "name": "ipython",
    "version": 3
   },
   "file_extension": ".py",
   "mimetype": "text/x-python",
   "name": "python",
   "nbconvert_exporter": "python",
   "pygments_lexer": "ipython3",
   "version": "3.7.0"
  }
 },
 "nbformat": 4,
 "nbformat_minor": 2
}
