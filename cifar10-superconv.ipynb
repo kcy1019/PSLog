{
 "cells": [
  {
   "cell_type": "markdown",
   "metadata": {},
   "source": [
    "# CIFAR10 분류로 살펴보는 1Cycle Policy & Superconvergence"
   ]
  },
  {
   "cell_type": "code",
   "execution_count": 1,
   "metadata": {},
   "outputs": [],
   "source": [
    "from torchvision import datasets, transforms\n",
    "import torch\n",
    "from torch.autograd import Variable\n",
    "import torch.nn as nn\n",
    "import torch.nn.functional as F\n",
    "import torch.optim as optim\n",
    "import torch.nn.init as init\n",
    "import numpy as np\n",
    "%matplotlib inline\n",
    "import seaborn as sns\n",
    "import matplotlib.pyplot as plt\n",
    "import math\n",
    "sns.set()\n",
    "torch.backends.cudnn.enabled = True\n",
    "torch.backends.cudnn.benchmark = True"
   ]
  },
  {
   "cell_type": "code",
   "execution_count": 2,
   "metadata": {},
   "outputs": [],
   "source": [
    "transform_train = transforms.Compose([\n",
    "    transforms.RandomCrop(32, padding=4),\n",
    "    transforms.RandomHorizontalFlip(),\n",
    "    transforms.ToTensor(),\n",
    "    transforms.Normalize((0.4914, 0.4822, 0.4465), (0.2023, 0.1994, 0.2010)),\n",
    "])\n",
    "\n",
    "transform_test = transforms.Compose([\n",
    "    transforms.ToTensor(),\n",
    "    transforms.Normalize((0.4914, 0.4822, 0.4465), (0.2023, 0.1994, 0.2010)),\n",
    "])"
   ]
  },
  {
   "cell_type": "code",
   "execution_count": 3,
   "metadata": {},
   "outputs": [
    {
     "name": "stdout",
     "output_type": "stream",
     "text": [
      "Files already downloaded and verified\n",
      "Files already downloaded and verified\n"
     ]
    }
   ],
   "source": [
    "trainset = datasets.CIFAR10(root='cifar10', train=True, download=True, transform=transform_train)\n",
    "trainloader = torch.utils.data.DataLoader(trainset, batch_size=512, shuffle=True)\n",
    "\n",
    "testset = datasets.CIFAR10(root='cifar10', train=False, download=True, transform=transform_test)\n",
    "testloader = torch.utils.data.DataLoader(testset, batch_size=512, shuffle=False)"
   ]
  },
  {
   "cell_type": "markdown",
   "metadata": {},
   "source": [
    "## ResNet-56"
   ]
  },
  {
   "cell_type": "code",
   "execution_count": 4,
   "metadata": {},
   "outputs": [],
   "source": [
    "class BasicBlock(nn.Module):\n",
    "    \n",
    "    def __init__(self, ch_in, ch_out, stride=1):\n",
    "        super().__init__()\n",
    "        self.bn1 = nn.BatchNorm2d(ch_out)\n",
    "        self.conv1 = nn.Conv2d(ch_in, ch_out, kernel_size=3, stride=stride, padding=1, bias=False)\n",
    "        self.bn2 = nn.BatchNorm2d(ch_out)\n",
    "        self.conv2 = nn.Conv2d(ch_out, ch_out, kernel_size=3, stride=1, padding=1, bias=False)\n",
    "\n",
    "        if stride != 1 or ch_in != ch_out:\n",
    "            self.shortcut = nn.Sequential(\n",
    "                nn.Conv2d(ch_in, ch_out, kernel_size=1, stride=stride, bias=False),\n",
    "                nn.BatchNorm2d(ch_out)\n",
    "            )\n",
    "\n",
    "    def forward(self, x):\n",
    "        shortcut = self.shortcut(x) if hasattr(self, 'shortcut') else x\n",
    "        out = self.conv1(x)\n",
    "        out = self.bn2(self.conv2(F.relu(self.bn1(out))))\n",
    "        out += shortcut\n",
    "        return F.relu(out)"
   ]
  },
  {
   "cell_type": "code",
   "execution_count": 5,
   "metadata": {},
   "outputs": [],
   "source": [
    "class ResNet(nn.Module):\n",
    "    def __init__(self, num_blocks, num_classes=10):\n",
    "        super().__init__()\n",
    "        self.conv1 = nn.Conv2d(3, 16, kernel_size=3, stride=1, padding=1, bias=False)\n",
    "        self.bn1 = nn.BatchNorm2d(16)\n",
    "        self.layer1 = self.make_group_layer(16, 16, num_blocks[0], stride=1)\n",
    "        self.layer2 = self.make_group_layer(16, 32, num_blocks[1], stride=2)\n",
    "        self.layer3 = self.make_group_layer(32, 64, num_blocks[2], stride=2)\n",
    "        self.linear = nn.Linear(64, num_classes)\n",
    "\n",
    "    def make_group_layer(self,ch_in, ch_out, num_blocks, stride):\n",
    "        layers = [BasicBlock(ch_in, ch_out, stride)]\n",
    "        for i in range(num_blocks-1):\n",
    "            layers.append(BasicBlock(ch_out, ch_out, stride=1))\n",
    "        return nn.Sequential(*layers)\n",
    "\n",
    "    def forward(self, x):\n",
    "        out = F.relu(self.bn1(self.conv1(x)))\n",
    "        out = self.layer1(out)\n",
    "        out = self.layer2(out)\n",
    "        out = self.layer3(out)\n",
    "        out = F.adaptive_avg_pool2d(out, 1)\n",
    "        out = out.view(out.size(0), -1)\n",
    "        return F.log_softmax(self.linear(out))"
   ]
  },
  {
   "cell_type": "code",
   "execution_count": 6,
   "metadata": {},
   "outputs": [],
   "source": [
    "def find_lr(model, train_dl, epochs=1, start=1e-4, end=8.0, beta=0.95, momentum=0.99, decay=0):\n",
    "    optimizer = optim.SGD(model.parameters(), lr=start, momentum=momentum, weight_decay=decay)\n",
    "    avg_loss, best_loss = 0, float('inf')\n",
    "    step = (end / start) ** (1/(len(train_dl) * epochs - 1))\n",
    "    i, lr = 1, start\n",
    "    lr_losses = []\n",
    "    for _ in range(epochs):\n",
    "        for data, labels in train_dl:\n",
    "            input, target = Variable(data).cuda(), Variable(labels).cuda()\n",
    "            model.zero_grad()\n",
    "            optimizer.zero_grad()\n",
    "            output = model(input)\n",
    "            loss = F.nll_loss(output, target)\n",
    "            avg_loss = beta * avg_loss + (1-beta) * loss.data.item()\n",
    "            smoothed_loss = avg_loss / (1 - beta ** i)\n",
    "            lr_losses.append((lr, smoothed_loss, loss.data.item()))\n",
    "            if smoothed_loss > 4 * best_loss:\n",
    "                return lr_losses\n",
    "            elif smoothed_loss < best_loss:\n",
    "                best_loss = smoothed_loss\n",
    "            loss.backward()\n",
    "            optimizer.step()\n",
    "            lr *= step\n",
    "            optimizer.param_groups[0]['lr'] = lr\n",
    "            i += 1\n",
    "    return lr_losses"
   ]
  },
  {
   "cell_type": "markdown",
   "metadata": {},
   "source": [
    "## Finding Upper Bound of Learning Rate\n"
   ]
  },
  {
   "cell_type": "code",
   "execution_count": 7,
   "metadata": {
    "scrolled": true
   },
   "outputs": [
    {
     "name": "stderr",
     "output_type": "stream",
     "text": [
      "/home/lucent/.pyenv/versions/3.7.0/envs/ml2/lib/python3.7/site-packages/ipykernel_launcher.py:24: UserWarning: Implicit dimension choice for log_softmax has been deprecated. Change the call to include dim=X as an argument.\n"
     ]
    }
   ],
   "source": [
    "torch.manual_seed(42)\n",
    "model = ResNet([9,9,9]).cuda()\n",
    "lr_losses = find_lr(model, trainloader, epochs=1, start=1e-5, end=1e2, momentum=0.95, decay=1e-4)"
   ]
  },
  {
   "cell_type": "code",
   "execution_count": 8,
   "metadata": {},
   "outputs": [
    {
     "data": {
      "image/png": "[encoded data removed]",
      "text/plain": [
       "<Figure size 720x432 with 1 Axes>"
      ]
     },
     "metadata": {
      "needs_background": "light"
     },
     "output_type": "display_data"
    }
   ],
   "source": [
    "xs, ys = ([math.log10(p[0]) for p in lr_losses[5:-5]], [p[1] for p in lr_losses[5:-5]])\n",
    "fig = plt.figure(figsize=(10, 6))\n",
    "ax = fig.add_subplot(1, 1, 1)\n",
    "ax.set_xticks(np.arange(math.floor(min(xs)) - 1, math.ceil(max(xs)) + 1, 0.1), minor=True)\n",
    "ax.set_xticks(np.arange(math.floor(min(xs)) - 1, math.ceil(max(xs)) + 1, 1), minor=False)\n",
    "ax.grid(which='minor', alpha=0.8)\n",
    "ax.grid(which='major', alpha=1.0)\n",
    "ax.plot(xs, ys);"
   ]
  },
  {
   "cell_type": "code",
   "execution_count": 9,
   "metadata": {},
   "outputs": [],
   "source": [
    "def eval(model, test_dl):\n",
    "    model.eval()\n",
    "    num_examples, avg_loss, correct_count = 0, 0, 0\n",
    "    with torch.no_grad():\n",
    "        for data, labels in test_dl:\n",
    "            input = Variable(data).cuda()\n",
    "            output = model(input)\n",
    "            loss = F.nll_loss(output, labels.cuda())\n",
    "            avg_loss += loss.data.item()\n",
    "            correct_count += np.sum(np.argmax(output.cpu().numpy(), axis=1) == labels.cpu().numpy())\n",
    "            num_examples += labels.size(0)\n",
    "        return avg_loss / num_examples, correct_count * 100 / num_examples"
   ]
  },
  {
   "cell_type": "code",
   "execution_count": 10,
   "metadata": {},
   "outputs": [],
   "source": [
    "def train(model, train_dl, epochs=10, min_lr=0.1, max_lr=1):\n",
    "    def cyclical_lr(min_lr, max_lr, num_steps, p_tails=0.1, eps=0.025):\n",
    "        peak_step = num_steps * (1 - p_tails) // 2\n",
    "        print(f'steps: {peak_step}')\n",
    "        def lr_func(step):\n",
    "            if step <= peak_step:\n",
    "                return min_lr + (max_lr - min_lr) * (step / peak_step)\n",
    "            elif step > 2 * peak_step:\n",
    "                return min_lr - (step - peak_step * 2) * eps\n",
    "            else:\n",
    "                return max(1e-18, max_lr - (max_lr - min_lr) * (step - peak_step) / peak_step)\n",
    "        return lr_func\n",
    "    optimizer = optim.SGD(model.parameters(), lr=1., momentum=0.95, weight_decay=1e-4)\n",
    "    scheduler = optim.lr_scheduler.LambdaLR(optimizer, cyclical_lr(min_lr, max_lr, epochs))\n",
    "    avg_losses, accs = [], []\n",
    "    for _ in range(epochs):\n",
    "        model.train()\n",
    "        avg_loss, acc, num_examples = 0, 0, 0\n",
    "        scheduler.step()\n",
    "        for data, labels in train_dl:\n",
    "            input, target = Variable(data).cuda(), Variable(labels).cuda()\n",
    "            model.zero_grad()\n",
    "            optimizer.zero_grad()\n",
    "            output = model(input)\n",
    "            loss = F.nll_loss(output, target)\n",
    "            avg_loss += loss.data.item()\n",
    "            acc += np.sum(np.argmax(output.detach().cpu().numpy(), axis=1) == labels.cpu().numpy())\n",
    "            num_examples += target.size(0)\n",
    "            loss.backward()\n",
    "            optimizer.step()\n",
    "        avg_loss /= num_examples\n",
    "        acc = acc * 100 / num_examples\n",
    "        val_avg_loss, val_acc = eval(model, testloader)  # 원래는 validation dataset을 써야 하지만 없어서..\n",
    "        print(f'Epoch [{_+1:2d}/{epochs:2d}]: learning rate is {optimizer.param_groups[0][\"lr\"]}')\n",
    "        print(f'Epoch [{_+1:2d}/{epochs:2d}]: (Train) avg loss {avg_loss:.5f}, accuracy {acc:.3f}%')\n",
    "        print(f'Epoch [{_+1:2d}/{epochs:2d}]: (Valid) avg loss {val_avg_loss:.5f}, accuracy {val_acc:.3f}%')\n",
    "        avg_losses.append((avg_loss, val_avg_loss))\n",
    "        accs.append((acc,val_acc))\n",
    "    return avg_losses, accs"
   ]
  },
  {
   "cell_type": "code",
   "execution_count": 11,
   "metadata": {
    "scrolled": false
   },
   "outputs": [
    {
     "name": "stdout",
     "output_type": "stream",
     "text": [
      "steps: 22.0\n"
     ]
    },
    {
     "name": "stderr",
     "output_type": "stream",
     "text": [
      "/home/lucent/.pyenv/versions/3.7.0/envs/ml2/lib/python3.7/site-packages/ipykernel_launcher.py:24: UserWarning: Implicit dimension choice for log_softmax has been deprecated. Change the call to include dim=X as an argument.\n"
     ]
    },
    {
     "name": "stdout",
     "output_type": "stream",
     "text": [
      "Epoch [ 1/50]: learning rate is 0.3\n",
      "Epoch [ 1/50]: (Train) avg loss 0.00405, accuracy 21.202%\n",
      "Epoch [ 1/50]: (Valid) avg loss 0.00409, accuracy 25.210%\n",
      "Epoch [ 2/50]: learning rate is 0.42272727272727273\n",
      "Epoch [ 2/50]: (Train) avg loss 0.00343, accuracy 33.596%\n",
      "Epoch [ 2/50]: (Valid) avg loss 0.00348, accuracy 37.950%\n",
      "Epoch [ 3/50]: learning rate is 0.5454545454545454\n",
      "Epoch [ 3/50]: (Train) avg loss 0.00292, accuracy 44.846%\n",
      "Epoch [ 3/50]: (Valid) avg loss 0.00314, accuracy 43.380%\n",
      "Epoch [ 4/50]: learning rate is 0.6681818181818182\n",
      "Epoch [ 4/50]: (Train) avg loss 0.00258, accuracy 52.126%\n",
      "Epoch [ 4/50]: (Valid) avg loss 0.00274, accuracy 53.780%\n",
      "Epoch [ 5/50]: learning rate is 0.790909090909091\n",
      "Epoch [ 5/50]: (Train) avg loss 0.00224, accuracy 59.128%\n",
      "Epoch [ 5/50]: (Valid) avg loss 0.00245, accuracy 58.670%\n",
      "Epoch [ 6/50]: learning rate is 0.9136363636363636\n",
      "Epoch [ 6/50]: (Train) avg loss 0.00192, accuracy 65.152%\n",
      "Epoch [ 6/50]: (Valid) avg loss 0.00312, accuracy 53.060%\n",
      "Epoch [ 7/50]: learning rate is 1.0363636363636364\n",
      "Epoch [ 7/50]: (Train) avg loss 0.00176, accuracy 68.422%\n",
      "Epoch [ 7/50]: (Valid) avg loss 0.00213, accuracy 65.480%\n",
      "Epoch [ 8/50]: learning rate is 1.1590909090909092\n",
      "Epoch [ 8/50]: (Train) avg loss 0.00160, accuracy 71.572%\n",
      "Epoch [ 8/50]: (Valid) avg loss 0.00322, accuracy 56.070%\n",
      "Epoch [ 9/50]: learning rate is 1.281818181818182\n",
      "Epoch [ 9/50]: (Train) avg loss 0.00153, accuracy 73.050%\n",
      "Epoch [ 9/50]: (Valid) avg loss 0.00222, accuracy 64.530%\n",
      "Epoch [10/50]: learning rate is 1.4045454545454548\n",
      "Epoch [10/50]: (Train) avg loss 0.00147, accuracy 74.088%\n",
      "Epoch [10/50]: (Valid) avg loss 0.00215, accuracy 65.760%\n",
      "Epoch [11/50]: learning rate is 1.5272727272727273\n",
      "Epoch [11/50]: (Train) avg loss 0.00140, accuracy 75.232%\n",
      "Epoch [11/50]: (Valid) avg loss 0.00231, accuracy 62.910%\n",
      "Epoch [12/50]: learning rate is 1.6500000000000001\n",
      "Epoch [12/50]: (Train) avg loss 0.00149, accuracy 73.754%\n",
      "Epoch [12/50]: (Valid) avg loss 0.00360, accuracy 54.510%\n",
      "Epoch [13/50]: learning rate is 1.7727272727272727\n",
      "Epoch [13/50]: (Train) avg loss 0.00151, accuracy 73.750%\n",
      "Epoch [13/50]: (Valid) avg loss 0.00275, accuracy 62.200%\n",
      "Epoch [14/50]: learning rate is 1.8954545454545457\n",
      "Epoch [14/50]: (Train) avg loss 0.00146, accuracy 74.674%\n",
      "Epoch [14/50]: (Valid) avg loss 0.00209, accuracy 64.490%\n",
      "Epoch [15/50]: learning rate is 2.018181818181818\n",
      "Epoch [15/50]: (Train) avg loss 0.00145, accuracy 74.682%\n",
      "Epoch [15/50]: (Valid) avg loss 0.00296, accuracy 58.510%\n",
      "Epoch [16/50]: learning rate is 2.1409090909090907\n",
      "Epoch [16/50]: (Train) avg loss 0.00145, accuracy 74.898%\n",
      "Epoch [16/50]: (Valid) avg loss 0.00280, accuracy 59.440%\n",
      "Epoch [17/50]: learning rate is 2.2636363636363637\n",
      "Epoch [17/50]: (Train) avg loss 0.00151, accuracy 73.654%\n",
      "Epoch [17/50]: (Valid) avg loss 0.00323, accuracy 53.130%\n",
      "Epoch [18/50]: learning rate is 2.3863636363636362\n",
      "Epoch [18/50]: (Train) avg loss 0.00151, accuracy 73.840%\n",
      "Epoch [18/50]: (Valid) avg loss 0.00632, accuracy 41.090%\n",
      "Epoch [19/50]: learning rate is 2.5090909090909093\n",
      "Epoch [19/50]: (Train) avg loss 0.00155, accuracy 73.208%\n",
      "Epoch [19/50]: (Valid) avg loss 0.00479, accuracy 39.760%\n",
      "Epoch [20/50]: learning rate is 2.631818181818182\n",
      "Epoch [20/50]: (Train) avg loss 0.00155, accuracy 73.010%\n",
      "Epoch [20/50]: (Valid) avg loss 0.00301, accuracy 57.150%\n",
      "Epoch [21/50]: learning rate is 2.7545454545454544\n",
      "Epoch [21/50]: (Train) avg loss 0.00160, accuracy 72.442%\n",
      "Epoch [21/50]: (Valid) avg loss 0.00358, accuracy 51.260%\n",
      "Epoch [22/50]: learning rate is 2.8772727272727274\n",
      "Epoch [22/50]: (Train) avg loss 0.00162, accuracy 72.098%\n",
      "Epoch [22/50]: (Valid) avg loss 0.00292, accuracy 55.850%\n",
      "Epoch [23/50]: learning rate is 3.0\n",
      "Epoch [23/50]: (Train) avg loss 0.00163, accuracy 72.078%\n",
      "Epoch [23/50]: (Valid) avg loss 0.00278, accuracy 60.500%\n",
      "Epoch [24/50]: learning rate is 2.8772727272727274\n",
      "Epoch [24/50]: (Train) avg loss 0.00159, accuracy 72.472%\n",
      "Epoch [24/50]: (Valid) avg loss 0.00289, accuracy 56.050%\n",
      "Epoch [25/50]: learning rate is 2.7545454545454544\n",
      "Epoch [25/50]: (Train) avg loss 0.00153, accuracy 73.718%\n",
      "Epoch [25/50]: (Valid) avg loss 0.00342, accuracy 52.830%\n",
      "Epoch [26/50]: learning rate is 2.631818181818182\n",
      "Epoch [26/50]: (Train) avg loss 0.00153, accuracy 73.300%\n",
      "Epoch [26/50]: (Valid) avg loss 0.00721, accuracy 33.530%\n",
      "Epoch [27/50]: learning rate is 2.509090909090909\n",
      "Epoch [27/50]: (Train) avg loss 0.00147, accuracy 74.574%\n",
      "Epoch [27/50]: (Valid) avg loss 0.00316, accuracy 53.420%\n",
      "Epoch [28/50]: learning rate is 2.3863636363636362\n",
      "Epoch [28/50]: (Train) avg loss 0.00149, accuracy 74.032%\n",
      "Epoch [28/50]: (Valid) avg loss 0.00228, accuracy 64.340%\n",
      "Epoch [29/50]: learning rate is 2.2636363636363637\n",
      "Epoch [29/50]: (Train) avg loss 0.00143, accuracy 75.280%\n",
      "Epoch [29/50]: (Valid) avg loss 0.00252, accuracy 60.490%\n",
      "Epoch [30/50]: learning rate is 2.1409090909090907\n",
      "Epoch [30/50]: (Train) avg loss 0.00139, accuracy 75.662%\n",
      "Epoch [30/50]: (Valid) avg loss 0.00250, accuracy 58.700%\n",
      "Epoch [31/50]: learning rate is 2.018181818181818\n",
      "Epoch [31/50]: (Train) avg loss 0.00139, accuracy 75.882%\n",
      "Epoch [31/50]: (Valid) avg loss 0.00247, accuracy 64.270%\n",
      "Epoch [32/50]: learning rate is 1.8954545454545455\n",
      "Epoch [32/50]: (Train) avg loss 0.00133, accuracy 76.808%\n",
      "Epoch [32/50]: (Valid) avg loss 0.00226, accuracy 62.320%\n",
      "Epoch [33/50]: learning rate is 1.7727272727272727\n",
      "Epoch [33/50]: (Train) avg loss 0.00129, accuracy 77.546%\n",
      "Epoch [33/50]: (Valid) avg loss 0.00203, accuracy 64.930%\n",
      "Epoch [34/50]: learning rate is 1.65\n",
      "Epoch [34/50]: (Train) avg loss 0.00125, accuracy 78.008%\n",
      "Epoch [34/50]: (Valid) avg loss 0.00307, accuracy 58.320%\n",
      "Epoch [35/50]: learning rate is 1.5272727272727271\n",
      "Epoch [35/50]: (Train) avg loss 0.00126, accuracy 77.808%\n",
      "Epoch [35/50]: (Valid) avg loss 0.00174, accuracy 71.100%\n",
      "Epoch [36/50]: learning rate is 1.4045454545454545\n",
      "Epoch [36/50]: (Train) avg loss 0.00118, accuracy 79.238%\n",
      "Epoch [36/50]: (Valid) avg loss 0.00202, accuracy 70.460%\n",
      "Epoch [37/50]: learning rate is 1.2818181818181815\n",
      "Epoch [37/50]: (Train) avg loss 0.00114, accuracy 79.854%\n",
      "Epoch [37/50]: (Valid) avg loss 0.00188, accuracy 71.030%\n",
      "Epoch [38/50]: learning rate is 1.1590909090909092\n",
      "Epoch [38/50]: (Train) avg loss 0.00113, accuracy 80.438%\n",
      "Epoch [38/50]: (Valid) avg loss 0.00247, accuracy 67.760%\n",
      "Epoch [39/50]: learning rate is 1.0363636363636362\n",
      "Epoch [39/50]: (Train) avg loss 0.00107, accuracy 81.296%\n",
      "Epoch [39/50]: (Valid) avg loss 0.00189, accuracy 73.220%\n",
      "Epoch [40/50]: learning rate is 0.9136363636363636\n",
      "Epoch [40/50]: (Train) avg loss 0.00100, accuracy 82.366%\n",
      "Epoch [40/50]: (Valid) avg loss 0.00138, accuracy 77.120%\n",
      "Epoch [41/50]: learning rate is 0.790909090909091\n",
      "Epoch [41/50]: (Train) avg loss 0.00096, accuracy 83.286%\n",
      "Epoch [41/50]: (Valid) avg loss 0.00161, accuracy 74.630%\n",
      "Epoch [42/50]: learning rate is 0.668181818181818\n",
      "Epoch [42/50]: (Train) avg loss 0.00090, accuracy 84.106%\n",
      "Epoch [42/50]: (Valid) avg loss 0.00109, accuracy 81.940%\n",
      "Epoch [43/50]: learning rate is 0.5454545454545454\n",
      "Epoch [43/50]: (Train) avg loss 0.00085, accuracy 85.312%\n",
      "Epoch [43/50]: (Valid) avg loss 0.00115, accuracy 81.340%\n",
      "Epoch [44/50]: learning rate is 0.4227272727272724\n",
      "Epoch [44/50]: (Train) avg loss 0.00079, accuracy 86.070%\n",
      "Epoch [44/50]: (Valid) avg loss 0.00095, accuracy 83.920%\n",
      "Epoch [45/50]: learning rate is 0.2999999999999998\n",
      "Epoch [45/50]: (Train) avg loss 0.00070, accuracy 87.734%\n",
      "Epoch [45/50]: (Valid) avg loss 0.00092, accuracy 84.270%\n",
      "Epoch [46/50]: learning rate is 0.27499999999999997\n",
      "Epoch [46/50]: (Train) avg loss 0.00065, accuracy 88.604%\n",
      "Epoch [46/50]: (Valid) avg loss 0.00086, accuracy 85.470%\n",
      "Epoch [47/50]: learning rate is 0.25\n",
      "Epoch [47/50]: (Train) avg loss 0.00063, accuracy 88.866%\n",
      "Epoch [47/50]: (Valid) avg loss 0.00086, accuracy 85.480%\n",
      "Epoch [48/50]: learning rate is 0.22499999999999998\n",
      "Epoch [48/50]: (Train) avg loss 0.00061, accuracy 89.200%\n",
      "Epoch [48/50]: (Valid) avg loss 0.00094, accuracy 84.720%\n",
      "Epoch [49/50]: learning rate is 0.19999999999999998\n",
      "Epoch [49/50]: (Train) avg loss 0.00058, accuracy 89.636%\n",
      "Epoch [49/50]: (Valid) avg loss 0.00084, accuracy 86.300%\n",
      "Epoch [50/50]: learning rate is 0.175\n",
      "Epoch [50/50]: (Train) avg loss 0.00055, accuracy 90.156%\n",
      "Epoch [50/50]: (Valid) avg loss 0.00081, accuracy 86.180%\n"
     ]
    }
   ],
   "source": [
    "torch.manual_seed(42)\n",
    "model = ResNet([9,9,9]).cuda()\n",
    "l, a = train(model, trainloader, epochs=50, min_lr=0.3, max_lr=3)"
   ]
  },
  {
   "cell_type": "code",
   "execution_count": 12,
   "metadata": {},
   "outputs": [
    {
     "data": {
      "image/png": "[encoded data removed]",
      "text/plain": [
       "<Figure size 720x432 with 1 Axes>"
      ]
     },
     "metadata": {
      "needs_background": "light"
     },
     "output_type": "display_data"
    }
   ],
   "source": [
    "fig = plt.figure(figsize=(10, 6))\n",
    "xs, ys = (list(range(len(l))), [p[-1] for p in l])\n",
    "plt.plot(xs, ys)\n",
    "xs, ys = (list(range(len(l))), [p[0] for p in l])\n",
    "plt.plot(xs, ys)\n",
    "plt.legend(['valid', 'train'], ncol=1, loc='upper right');"
   ]
  }
 ],
 "metadata": {
  "kernelspec": {
   "display_name": "Python 3",
   "language": "python",
   "name": "python3"
  },
  "language_info": {
   "codemirror_mode": {
    "name": "ipython",
    "version": 3
   },
   "file_extension": ".py",
   "mimetype": "text/x-python",
   "name": "python",
   "nbconvert_exporter": "python",
   "pygments_lexer": "ipython3",
   "version": "3.7.0"
  }
 },
 "nbformat": 4,
 "nbformat_minor": 2
}
